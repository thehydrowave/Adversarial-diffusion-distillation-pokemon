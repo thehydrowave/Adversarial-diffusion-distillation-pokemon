{
  "cells": [
    {
      "cell_type": "markdown",
      "metadata": {
        "id": "view-in-github",
        "colab_type": "text"
      },
      "source": [
        "<a href=\"https://colab.research.google.com/github/thehydrowave/Adversarial-diffusion-distillation-pokemon/blob/main/ADD_part2_Naruto_Project.ipynb\" target=\"_parent\"><img src=\"https://colab.research.google.com/assets/colab-badge.svg\" alt=\"Open In Colab\"/></a>"
      ]
    },
    {
      "cell_type": "markdown",
      "metadata": {
        "id": "Vgc8jh1xj8lz"
      },
      "source": [
        "# 🧠 Adversarial Diffusion Distillation (ADD) - Projet Naruto\n",
        "\n",
        "Ce notebook implémente l'entraînement d'un modèle student rapide à partir d'un modèle Stable Diffusion LoRA (teacher), selon le papier [Adversarial Diffusion Distillation (ADD)](https://arxiv.org/abs/2311.17042)."
      ]
    },
    {
      "cell_type": "code",
      "source": [
        "import numpy as np\n",
        "print(np.__version__)\n",
        "\n",
        "from diffusers import StableDiffusionPipeline\n",
        "print(\"✅ Tout fonctionne avec diffusers.\")"
      ],
      "metadata": {
        "colab": {
          "base_uri": "https://localhost:8080/"
        },
        "id": "MT4pmAYF1wAi",
        "outputId": "0e45be4f-b45c-4663-a216-3a2c095d2c1a"
      },
      "execution_count": 1,
      "outputs": [
        {
          "output_type": "stream",
          "name": "stdout",
          "text": [
            "2.0.2\n",
            "✅ Tout fonctionne avec diffusers.\n"
          ]
        }
      ]
    },
    {
      "cell_type": "code",
      "execution_count": null,
      "metadata": {
        "id": "6m4Ytxblj8l1"
      },
      "outputs": [],
      "source": [
        "# 📦 Installation des dépendances\n",
        "!pip install diffusers transformers accelerate datasets timm --quiet"
      ]
    },
    {
      "cell_type": "code",
      "execution_count": null,
      "metadata": {
        "id": "ZFz9DKQYj8l2"
      },
      "outputs": [],
      "source": [
        "# 🔧 Imports & chargement du modèle teacher\n",
        "import torch\n",
        "from diffusers import StableDiffusionPipeline\n",
        "\n",
        "device = 'cuda' if torch.cuda.is_available() else 'cpu'\n",
        "teacher = StableDiffusionPipeline.from_pretrained(\n",
        "    'runwayml/stable-diffusion-v1-5',\n",
        "    torch_dtype=torch.float16\n",
        ").to(device)\n",
        "\n",
        "# Charger les poids LoRA Naruto\n",
        "teacher.unet.load_attn_procs('./naruto_lora_weights')\n",
        "teacher.eval()"
      ]
    },
    {
      "cell_type": "code",
      "execution_count": null,
      "metadata": {
        "id": "w1WRF3c7j8l2"
      },
      "outputs": [],
      "source": [
        "# 🧠 Initialiser le student\n",
        "import copy\n",
        "student = copy.deepcopy(teacher)\n",
        "student.scheduler.set_timesteps(num_inference_steps=4)\n",
        "student.train()"
      ]
    },
    {
      "cell_type": "code",
      "execution_count": null,
      "metadata": {
        "id": "5g6brc0Jj8l2"
      },
      "outputs": [],
      "source": [
        "# 🤖 Discriminateur basé sur ViT (via timm)\n",
        "import timm\n",
        "import torch.nn as nn\n",
        "\n",
        "class Discriminator(nn.Module):\n",
        "    def __init__(self):\n",
        "        super().__init__()\n",
        "        self.backbone = timm.create_model('vit_base_patch16_224', pretrained=True)\n",
        "        self.head = nn.Linear(self.backbone.num_features, 1)\n",
        "\n",
        "    def forward(self, x):\n",
        "        features = self.backbone(x)\n",
        "        return self.head(features)\n",
        "\n",
        "discriminator = Discriminator().to(device)"
      ]
    },
    {
      "cell_type": "markdown",
      "metadata": {
        "id": "qsXEnIw_j8l2"
      },
      "source": [
        "## 🔁 Boucle d'entraînement ADD simplifiée (à compléter selon dataset Naruto)"
      ]
    },
    {
      "cell_type": "code",
      "execution_count": null,
      "metadata": {
        "id": "eaZmHmh_j8l2"
      },
      "outputs": [],
      "source": [
        "# 🔄 Training loop (SQUELETTE À COMPLÉTER)\n",
        "lambda_adv = 0.5\n",
        "optimizer_student = torch.optim.Adam(student.unet.parameters(), lr=1e-5)\n",
        "optimizer_disc = torch.optim.Adam(discriminator.parameters(), lr=1e-5)\n",
        "\n",
        "# ➕ À compléter : charger le dataset Naruto BLIP captions, générer x_s, calculer pertes\n",
        "# ➕ Ajout de SDS loss + hinge loss sur output du discriminateur\n",
        "# ➕ Entraînement alterné student/discriminator\n"
      ]
    }
  ],
  "metadata": {
    "kernelspec": {
      "display_name": "Python 3",
      "language": "python",
      "name": "python3"
    },
    "language_info": {
      "name": "python",
      "version": "3.11"
    },
    "colab": {
      "provenance": [],
      "include_colab_link": true
    }
  },
  "nbformat": 4,
  "nbformat_minor": 0
}